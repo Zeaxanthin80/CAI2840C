{
 "cells": [
  {
   "cell_type": "markdown",
   "metadata": {},
   "source": [
    "No class tonight: 1/18/2025 (MLK Weekend)\n",
    "Hello Team,\n",
    "\n",
    "Sorry for the late notice but I wanted to make sure everyone is aware that the college is closed (as of 5PM EST) so there will NOT be class tonight.\n",
    "\n",
    "Enjoy your break!\n",
    "\n",
    "Kind Regards,\n",
    "\n",
    "Dr. Lee"
   ]
  }
 ],
 "metadata": {
  "language_info": {
   "name": "python"
  }
 },
 "nbformat": 4,
 "nbformat_minor": 2
}
