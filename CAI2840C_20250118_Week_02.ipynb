No class tonight: 1/18/2025 (MLK Weekend)
Hello Team,

Sorry for the late notice but I wanted to make sure everyone is aware that the college is closed (as of 5PM EST) so there will NOT be class tonight.

Enjoy your break!

Kind Regards,

Dr. Lee
