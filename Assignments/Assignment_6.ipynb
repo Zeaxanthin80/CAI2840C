{
 "cells": [
  {
   "cell_type": "markdown",
   "metadata": {},
   "source": [
    "# Assignment 6\n",
    "\n",
    "Valentines Weekend 💘 | No Class | No Assignement"
   ]
  }
 ],
 "metadata": {
  "language_info": {
   "name": "python"
  }
 },
 "nbformat": 4,
 "nbformat_minor": 2
}
